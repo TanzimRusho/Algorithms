{
  "nbformat": 4,
  "nbformat_minor": 0,
  "metadata": {
    "colab": {
      "name": "date_adt.ipynb",
      "provenance": [],
      "include_colab_link": true
    },
    "kernelspec": {
      "name": "python3",
      "display_name": "Python 3"
    }
  },
  "cells": [
    {
      "cell_type": "markdown",
      "metadata": {
        "id": "view-in-github",
        "colab_type": "text"
      },
      "source": [
        "<a href=\"https://colab.research.google.com/github/TanzimRusho/Data_Structures/blob/main/date_adt.ipynb\" target=\"_parent\"><img src=\"https://colab.research.google.com/assets/colab-badge.svg\" alt=\"Open In Colab\"/></a>"
      ]
    },
    {
      "cell_type": "code",
      "metadata": {
        "id": "ANjfg64KV_WK",
        "colab": {
          "base_uri": "https://localhost:8080/",
          "height": 176
        },
        "outputId": "b1ba8cf6-252f-4acd-d675-5cefd473c127"
      },
      "source": [
        "# Extracts a collection of birth dates from the user and determines\n",
        "# if each individual is at least 21 years of age.\n",
        "from datetime import datetime, date\n",
        "\n",
        "def main():\n",
        "      # Date before which a person must have been born to be 21 or older.\n",
        "      bornBefore = date(1998, 10, 6)\n",
        "\n",
        "      # Extract birth dates from the user and determine if 21 or older.\n",
        "      date_ = promptAndExtractDate()\n",
        "      while date_ is not None:\n",
        "          if date_ <= bornBefore:\n",
        "              print(\"Is at least 21 years of age: \", date_)\n",
        "          date_ = promptAndExtractDate()\n",
        "\n",
        "# Prompts for and extracts the Gregorian date components. Returns a \n",
        "# Date object or None when the user has finished entering dates.\n",
        "def promptAndExtractDate():\n",
        "      print(\"Enter a birth date:\")\n",
        "      month = int(input(\"month (0 to quit): \"))\n",
        "      if month == 0:\n",
        "          return None\n",
        "      else:\n",
        "          day = int(input(\"day: \"))  \n",
        "          year = int(input(\"year: \"))\n",
        "          return date(year, month, day)\n",
        "        \n",
        "# Call the main routine\n",
        "main()"
      ],
      "execution_count": null,
      "outputs": [
        {
          "output_type": "stream",
          "text": [
            "Enter a birth date:\n",
            "month (0 to quit): 9\n",
            "day: 25\n",
            "year: 1989\n",
            "Is at least 21 years of age:  1989-09-25\n",
            "Enter a birth date:\n",
            "month (0 to quit): 10\n",
            "day: 6\n"
          ],
          "name": "stdout"
        }
      ]
    }
  ]
}
