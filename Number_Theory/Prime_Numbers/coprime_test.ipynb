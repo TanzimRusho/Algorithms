{
  "nbformat": 4,
  "nbformat_minor": 0,
  "metadata": {
    "colab": {
      "name": "coprime_test.ipynb",
      "provenance": [],
      "authorship_tag": "ABX9TyO3dGEWfCiquxXv3R4CkjKv",
      "include_colab_link": true
    },
    "kernelspec": {
      "name": "python3",
      "display_name": "Python 3"
    }
  },
  "cells": [
    {
      "cell_type": "markdown",
      "metadata": {
        "id": "view-in-github",
        "colab_type": "text"
      },
      "source": [
        "<a href=\"https://colab.research.google.com/github/TanzimRusho/All_about_prime_numbers/blob/main/coprime_test.ipynb\" target=\"_parent\"><img src=\"https://colab.research.google.com/assets/colab-badge.svg\" alt=\"Open In Colab\"/></a>"
      ]
    },
    {
      "cell_type": "code",
      "metadata": {
        "id": "biYB1zphIfnu",
        "colab": {
          "base_uri": "https://localhost:8080/",
          "height": 170
        },
        "outputId": "2f006e64-0bf4-4654-98df-6cb911926755"
      },
      "source": [
        "a = 9\n",
        "b = 19\n",
        "for i in range(2, min(a, b) + 1):\n",
        "    print(\"Testing %d\" % i) \n",
        "    if a % i == 0 and b % i == 0:\n",
        "        print(\"Not coprime\")\n",
        "        break\n",
        "else:\n",
        "    print(\"Coprime\")"
      ],
      "execution_count": null,
      "outputs": [
        {
          "output_type": "stream",
          "text": [
            "Testing 2\n",
            "Testing 3\n",
            "Testing 4\n",
            "Testing 5\n",
            "Testing 6\n",
            "Testing 7\n",
            "Testing 8\n",
            "Testing 9\n",
            "Coprime\n"
          ],
          "name": "stdout"
        }
      ]
    },
    {
      "cell_type": "code",
      "metadata": {
        "id": "9DL5x9eVMmkC",
        "colab": {
          "base_uri": "https://localhost:8080/",
          "height": 34
        },
        "outputId": "045f47e5-1d26-498e-d870-af4c176c2a3f"
      },
      "source": [
        "def coprime(a, b):\n",
        "    for i in range(2, min(a, b) + 1):\n",
        "        if a % i == 0 and b % i == 0:\n",
        "            return False\n",
        "    return True\n",
        "\n",
        "coprime(9, 19)"
      ],
      "execution_count": null,
      "outputs": [
        {
          "output_type": "execute_result",
          "data": {
            "text/plain": [
              "True"
            ]
          },
          "metadata": {
            "tags": []
          },
          "execution_count": 5
        }
      ]
    },
    {
      "cell_type": "code",
      "metadata": {
        "id": "1-BSjyXYwgAs",
        "colab": {
          "base_uri": "https://localhost:8080/",
          "height": 34
        },
        "outputId": "7aed8ea7-4bff-4988-85b0-0b10b2bb3d2f"
      },
      "source": [
        "def coprime2(a, b):\n",
        "    is_coprime = True\n",
        "    for i in range(2, min(a, b) + 1):\n",
        "        if a % i == 0 and b % i == 0:\n",
        "            is_coprime = False\n",
        "    return is_coprime\n",
        "\n",
        "coprime2(9, 18)"
      ],
      "execution_count": null,
      "outputs": [
        {
          "output_type": "execute_result",
          "data": {
            "text/plain": [
              "False"
            ]
          },
          "metadata": {
            "tags": []
          },
          "execution_count": 2
        }
      ]
    }
  ]
}
