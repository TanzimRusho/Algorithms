{
  "nbformat": 4,
  "nbformat_minor": 0,
  "metadata": {
    "colab": {
      "name": "binary_search.ipynb",
      "provenance": [],
      "authorship_tag": "ABX9TyNfsixiGCyfD95Ey5Laz7zH",
      "include_colab_link": true
    },
    "kernelspec": {
      "name": "python3",
      "display_name": "Python 3"
    },
    "language_info": {
      "name": "python"
    }
  },
  "cells": [
    {
      "cell_type": "markdown",
      "metadata": {
        "id": "view-in-github",
        "colab_type": "text"
      },
      "source": [
        "<a href=\"https://colab.research.google.com/github/TanzimRusho/Algorithms/blob/main/binary_search.ipynb\" target=\"_parent\"><img src=\"https://colab.research.google.com/assets/colab-badge.svg\" alt=\"Open In Colab\"/></a>"
      ]
    },
    {
      "cell_type": "code",
      "metadata": {
        "id": "FuOT2Yv2cUM3"
      },
      "source": [
        "def bin_search(n, val, key):\n",
        "    low = 1\n",
        "    high = n\n",
        "    while low <= high:\n",
        "        mid = int((low + high)/2)\n",
        "        if key < val[mid]:\n",
        "            high = mid-1\n",
        "        elif key > val[mid]:\n",
        "            low = mid+1\n",
        "        else:\n",
        "            return 1\n",
        "\n",
        "        return -1"
      ],
      "execution_count": null,
      "outputs": []
    },
    {
      "cell_type": "code",
      "metadata": {
        "colab": {
          "base_uri": "https://localhost:8080/"
        },
        "id": "g38kojC2dksZ",
        "outputId": "376bfd66-fc61-4274-fc6c-46a60629bfca"
      },
      "source": [
        "val = [1, 2, 4, 6, 7, 6, 7, 3, 8]\n",
        "val = sorted(val)\n",
        "#print(val)\n",
        "result = bin_search(8, val, 9)\n",
        "print(result)"
      ],
      "execution_count": null,
      "outputs": [
        {
          "output_type": "stream",
          "text": [
            "-1\n"
          ],
          "name": "stdout"
        }
      ]
    }
  ]
}