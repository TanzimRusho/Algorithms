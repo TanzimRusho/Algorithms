{
  "nbformat": 4,
  "nbformat_minor": 0,
  "metadata": {
    "colab": {
      "name": "recursion.ipynb",
      "provenance": [],
      "authorship_tag": "ABX9TyPpiYYIWT28ZSzbvIEJZhSb",
      "include_colab_link": true
    },
    "kernelspec": {
      "name": "python3",
      "display_name": "Python 3"
    },
    "language_info": {
      "name": "python"
    }
  },
  "cells": [
    {
      "cell_type": "markdown",
      "metadata": {
        "id": "view-in-github",
        "colab_type": "text"
      },
      "source": [
        "<a href=\"https://colab.research.google.com/github/TanzimRusho/Algorithms/blob/main/recursion.ipynb\" target=\"_parent\"><img src=\"https://colab.research.google.com/assets/colab-badge.svg\" alt=\"Open In Colab\"/></a>"
      ]
    },
    {
      "cell_type": "code",
      "metadata": {
        "colab": {
          "base_uri": "https://localhost:8080/"
        },
        "id": "2jT3Td-WqRDj",
        "outputId": "b5880fae-a2eb-4c65-ed2e-0c944d57e9b4"
      },
      "source": [
        "a_list = []\n",
        "a_list.append([0, 1])\n",
        "print(a_list)"
      ],
      "execution_count": null,
      "outputs": [
        {
          "output_type": "stream",
          "text": [
            "[[0, 1]]\n"
          ],
          "name": "stdout"
        }
      ]
    },
    {
      "cell_type": "code",
      "metadata": {
        "colab": {
          "base_uri": "https://localhost:8080/"
        },
        "id": "hfe9Bu2jl8I5",
        "outputId": "4b1630f2-debe-428a-d6e6-2dd49f7d1b4f"
      },
      "source": [
        "# return list of fibonacci numbers upto a certain number\n",
        "\n",
        "def fibonacci_upto_n(n):\n",
        "    fibonacci_list = []\n",
        "    for i in range(1, n+1):\n",
        "        fibonacci_list.append(nth_fibonacci(i))\n",
        "\n",
        "    return fibonacci_list\n",
        "\n",
        "def nth_fibonacci(n):\n",
        "    if n==1:\n",
        "        return 0\n",
        "    elif n==2:\n",
        "        return 1\n",
        "    else:\n",
        "        return nth_fibonacci(n-1) + nth_fibonacci(n-2) \n",
        "\n",
        "if __name__ == \"__main__\":\n",
        "    num = int(input())\n",
        "    fibonacci_list = fibonacci_upto_n(num)\n",
        "    print(fibonacci_list)"
      ],
      "execution_count": null,
      "outputs": [
        {
          "output_type": "stream",
          "text": [
            "8\n",
            "[0, 1, 1, 2, 3, 5, 8, 13]\n"
          ],
          "name": "stdout"
        }
      ]
    },
    {
      "cell_type": "code",
      "metadata": {
        "colab": {
          "base_uri": "https://localhost:8080/"
        },
        "id": "RSJfQ9OtjO6U",
        "outputId": "78011fbe-a297-4473-ba4e-57dfce4ea68c"
      },
      "source": [
        "# return n-th fibonacci number\n",
        "\n",
        "def nth_fibonacci(n):\n",
        "    if n==1:\n",
        "        return 0\n",
        "    elif n==2:\n",
        "        return 1\n",
        "    else:\n",
        "        return nth_fibonacci(n-1) + nth_fibonacci(n-2) \n",
        "\n",
        "if __name__ == \"__main__\":\n",
        "    num = int(input())\n",
        "    #fibonicci_list = []\n",
        "    #fibonacci_list.append(fibonacci(num))\n",
        "    print(nth_fibonacci(num))"
      ],
      "execution_count": null,
      "outputs": [
        {
          "output_type": "stream",
          "text": [
            "6\n",
            "5\n"
          ],
          "name": "stdout"
        }
      ]
    },
    {
      "cell_type": "code",
      "metadata": {
        "colab": {
          "base_uri": "https://localhost:8080/"
        },
        "id": "zkkWNZQsigD5",
        "outputId": "e37fb6a8-72ab-4446-8d0a-be5f640de7f7"
      },
      "source": [
        "# factorial\n",
        "\n",
        "def fact(n):\n",
        "    if n==1:\n",
        "        return 1\n",
        "    else: \n",
        "        return n*fact(n-1)\n",
        "\n",
        "if __name__ == \"__main__\":\n",
        "    base = int(input())\n",
        "    factorial = fact(base)\n",
        "    print(factorial)\n"
      ],
      "execution_count": null,
      "outputs": [
        {
          "output_type": "stream",
          "text": [
            "6\n",
            "720\n"
          ],
          "name": "stdout"
        }
      ]
    }
  ]
}